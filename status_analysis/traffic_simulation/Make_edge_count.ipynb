{
 "cells": [
  {
   "cell_type": "code",
   "execution_count": null,
   "id": "c79d955a",
   "metadata": {},
   "outputs": [],
   "source": [
    "from xml.etree.ElementTree import Element, SubElement, ElementTree\n",
    "import numpy as np\n",
    "import pandas as pd\n",
    "from tqdm import tqdm"
   ]
  },
  {
   "cell_type": "code",
   "execution_count": null,
   "id": "fff38864",
   "metadata": {},
   "outputs": [],
   "source": [
    "df = pd.read_csv('data/seoul/volume.csv')"
   ]
  },
  {
   "cell_type": "code",
   "execution_count": null,
   "id": "fc5dd888",
   "metadata": {},
   "outputs": [],
   "source": [
    "def _pretty_print(current, parent=None, index=-1, depth=0):\n",
    "    for i, node in enumerate(current):\n",
    "        _pretty_print(node, current, i, depth + 1)\n",
    "    if parent is not None:\n",
    "        if index == 0:\n",
    "            parent.text = '\\n' + ('\\t' * depth)\n",
    "        else:\n",
    "            parent[index - 1].tail = '\\n' + ('\\t' * depth)\n",
    "        if index == len(parent) - 1:\n",
    "            current.tail = '\\n' + ('\\t' * (depth - 1))"
   ]
  },
  {
   "cell_type": "code",
   "execution_count": null,
   "id": "4771e834",
   "metadata": {},
   "outputs": [],
   "source": [
    "root = Element(\"data\")\n",
    "for i in range(24*1):\n",
    "    elem = Element(\"interval\")\n",
    "    elem.set(\"id\",str(i))\n",
    "    elem.set(\"begin\",str(i*3600))\n",
    "    elem.set(\"end\",str((i+1)*3600))\n",
    "    \n",
    "    root.append(elem)\n",
    "    \n",
    "    j = 0\n",
    "    for sid in df['SUMO_ID']:\n",
    "        sub_elem = SubElement(elem,\"edge\")\n",
    "        sub_elem.set(\"id\",str(sid))\n",
    "        sub_elem.set(\"entered\",str((df[str(i%24)][j])))\n",
    "        j += 1\n",
    "    \n",
    "_pretty_print(root)\n",
    "\n",
    "tree = ElementTree(root)\n",
    "fileName = \"data/seoul/edgeCountData.xml\"\n",
    "with open(fileName, \"wb\") as file:\n",
    "    tree.write(file, encoding='utf-8', xml_declaration=True)"
   ]
  }
 ],
 "metadata": {
  "kernelspec": {
   "display_name": "Python 3 (ipykernel)",
   "language": "python",
   "name": "python3"
  },
  "language_info": {
   "codemirror_mode": {
    "name": "ipython",
    "version": 3
   },
   "file_extension": ".py",
   "mimetype": "text/x-python",
   "name": "python",
   "nbconvert_exporter": "python",
   "pygments_lexer": "ipython3",
   "version": "3.10.9"
  }
 },
 "nbformat": 4,
 "nbformat_minor": 5
}
