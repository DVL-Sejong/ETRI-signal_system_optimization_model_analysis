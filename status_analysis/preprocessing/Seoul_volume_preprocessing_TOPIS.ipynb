{
 "cells": [
  {
   "cell_type": "code",
   "execution_count": 1,
   "id": "b6180f8e",
   "metadata": {},
   "outputs": [],
   "source": [
    "import pandas as pd\n",
    "from datetime import date, datetime, time\n",
    "import numpy as np"
   ]
  },
  {
   "cell_type": "code",
   "execution_count": null,
   "id": "cebc55cd",
   "metadata": {},
   "outputs": [],
   "source": [
    "year_list = ['2017', '2018', '2019', '2020', '2021', '2022']\n",
    "month_list = ['01', '02', '03', '04', '05', '06', '07', '08', '09', '10', '11', '12']"
   ]
  },
  {
   "cell_type": "code",
   "execution_count": null,
   "id": "87ee514f",
   "metadata": {},
   "outputs": [],
   "source": [
    "for y in year_list:\n",
    "    df = pd.DataFrame()\n",
    "    for m in month_list:\n",
    "        temp = pd.read_excel('data/Namsan/volume/' + m + '월 서울시 교통량 조사자료(' + y + ').xlsx')\n",
    "        df = pd.concat([df, temp])\n",
    "        df.reset_index(drop=True)\n",
    "    df.to_csv('data/seoul/volume_' + y + '.csv', index=False)"
   ]
  },
  {
   "cell_type": "code",
   "execution_count": null,
   "id": "5d4d5927",
   "metadata": {},
   "outputs": [],
   "source": [
    "for y in year_list:\n",
    "    df = pd.read_csv('data/seoul/volume_' + y + '.csv')\n",
    "    \n",
    "    start_time = pd.to_datetime(y + '-03-17 00:00:00')\n",
    "    end_time = pd.to_datetime(y + '-05-16 23:00:00')\n",
    "    time_range = pd.date_range(start=start_time, end=end_time, freq='1H')\n",
    "    indf = pd.DataFrame(columns=detector, index=time_range)\n",
    "    outdf = pd.DataFrame(columns=detector, index=time_range)\n",
    "    \n",
    "    for i in range(len(df)):\n",
    "        if df['방향'][i] == '유입':\n",
    "            for j in range(6,30):\n",
    "                day = datetime.strptime(str(df['일자'][i]), \"%Y%m%d\")\n",
    "                ti = time(j-6, 0, 0)\n",
    "                idx = datetime.combine(day, ti)\n",
    "                indf.loc[idx, df['지점번호'][i]] = df.iloc[i, j]\n",
    "        else:\n",
    "            for j in range(6,30):\n",
    "                day = datetime.strptime(str(df['일자'][i]), \"%Y%m%d\")\n",
    "                ti = time(j-6, 0, 0)\n",
    "                idx = datetime.combine(day, ti)\n",
    "                outdf.loc[idx, df['지점번호'][i]] = df.iloc[i, j]\n",
    "    indf.to_csv('data/seoul/volume_inflow_' + y + '.csv', index=False)\n",
    "    outdf.to_csv('data/seoul/volume_outflow_' + y + '.csv', index=False)"
   ]
  },
  {
   "cell_type": "code",
   "execution_count": null,
   "id": "438d16d1",
   "metadata": {},
   "outputs": [],
   "source": [
    "for i in range(len(df)):\n",
    "    if df['방향'][i] == '유입':\n",
    "        for j in range(6,30):\n",
    "            day = datetime.strptime(str(df['일자'][i]), \"%Y%m%d\")\n",
    "            ti = time(j-6, 0, 0)\n",
    "            idx = datetime.combine(day, ti)\n",
    "            indf.loc[idx, df['지점번호'][i]] = df.iloc[i, j]\n",
    "    else:\n",
    "        for j in range(6,30):\n",
    "            day = datetime.strptime(str(df['일자'][i]), \"%Y%m%d\")\n",
    "            ti = time(j-6, 0, 0)\n",
    "            idx = datetime.combine(day, ti)\n",
    "            outdf.loc[idx, df['지점번호'][i]] = df.iloc[i, j]"
   ]
  }
 ],
 "metadata": {
  "kernelspec": {
   "display_name": "Python 3 (ipykernel)",
   "language": "python",
   "name": "python3"
  },
  "language_info": {
   "codemirror_mode": {
    "name": "ipython",
    "version": 3
   },
   "file_extension": ".py",
   "mimetype": "text/x-python",
   "name": "python",
   "nbconvert_exporter": "python",
   "pygments_lexer": "ipython3",
   "version": "3.10.9"
  }
 },
 "nbformat": 4,
 "nbformat_minor": 5
}
