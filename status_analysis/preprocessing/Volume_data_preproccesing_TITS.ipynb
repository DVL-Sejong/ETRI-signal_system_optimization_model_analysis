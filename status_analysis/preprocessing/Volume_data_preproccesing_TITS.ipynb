{
 "cells": [
  {
   "cell_type": "code",
   "execution_count": null,
   "id": "4389b873",
   "metadata": {},
   "outputs": [],
   "source": [
    "import pandas as pd"
   ]
  },
  {
   "cell_type": "code",
   "execution_count": null,
   "id": "cc698075",
   "metadata": {},
   "outputs": [],
   "source": [
    "df = pd.read_excel('data/seoul/TrafficVolume(LINK).xlsx')\n",
    "df = df.drop(columns=['도로등급', '도로명', '권역', '연장(km)', '차선수', '전일'], axis=1)"
   ]
  },
  {
   "cell_type": "code",
   "execution_count": null,
   "id": "1403d517",
   "metadata": {},
   "outputs": [],
   "source": [
    "df = df.drop(columns=['도로등급', '도로명', '권역', '연장(km)', '차선수', '전일'], axis=1)"
   ]
  },
  {
   "cell_type": "code",
   "execution_count": null,
   "id": "b53807ba",
   "metadata": {},
   "outputs": [],
   "source": [
    "# This data was not provided, so I took it directly from the map and made it.\n",
    "ITS_list = pd.read_csv('data/seoul/ITS_list.csv')"
   ]
  },
  {
   "cell_type": "code",
   "execution_count": null,
   "id": "c1b92ade",
   "metadata": {},
   "outputs": [],
   "source": [
    "remove_list = []\n",
    "for i in range(173):\n",
    "    temp = ITS_list['T_ID'][i].split(',')\n",
    "    if len(temp) == 2:\n",
    "        rlist.append(int(temp[0]))\n",
    "        rlist.append(int(temp[1]))\n",
    "    else:\n",
    "        rlist.append(int(temp[0]))"
   ]
  },
  {
   "cell_type": "code",
   "execution_count": null,
   "id": "6c301158",
   "metadata": {},
   "outputs": [],
   "source": [
    "rem = []\n",
    "for i in range(len(df)):\n",
    "    if df['5.5 LINK ID'][i] not in rlist:\n",
    "        rem.append(i)\n",
    "rem"
   ]
  },
  {
   "cell_type": "code",
   "execution_count": null,
   "id": "966767e2",
   "metadata": {},
   "outputs": [],
   "source": [
    "df = df.drop(rem, axis=0)"
   ]
  },
  {
   "cell_type": "code",
   "execution_count": null,
   "id": "7e7e30db",
   "metadata": {},
   "outputs": [],
   "source": [
    "c = pd.read_csv('data/seoul/ffs_gangnam.csv', index_col='Unnamed: 0')"
   ]
  },
  {
   "cell_type": "code",
   "execution_count": null,
   "id": "20f88076",
   "metadata": {},
   "outputs": [],
   "source": [
    "for i in range(len(df)):\n",
    "    temp = df['ITS LINK ID'][i].split(',')\n",
    "    if len(temp) != 2:\n",
    "        a = c.loc[int(temp[0])]['sumo_id'].split(', ')\n",
    "        df['SUMO_ID'][i] = a[int((len(a)-1)/2)]"
   ]
  },
  {
   "cell_type": "code",
   "execution_count": null,
   "id": "0aa7e2ee",
   "metadata": {},
   "outputs": [],
   "source": [
    "df.to_csv('data/seoul/volume_TITS.csv')"
   ]
  }
 ],
 "metadata": {
  "kernelspec": {
   "display_name": "Python 3 (ipykernel)",
   "language": "python",
   "name": "python3"
  },
  "language_info": {
   "codemirror_mode": {
    "name": "ipython",
    "version": 3
   },
   "file_extension": ".py",
   "mimetype": "text/x-python",
   "name": "python",
   "nbconvert_exporter": "python",
   "pygments_lexer": "ipython3",
   "version": "3.10.9"
  }
 },
 "nbformat": 4,
 "nbformat_minor": 5
}
