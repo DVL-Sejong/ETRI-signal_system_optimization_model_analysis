{
 "cells": [
  {
   "cell_type": "code",
   "execution_count": null,
   "id": "fd85074a",
   "metadata": {},
   "outputs": [],
   "source": [
    "import numpy as np\n",
    "import pandas as pd\n",
    "import seaborn as sns\n",
    "from matplotlib import pyplot as plt\n",
    "from sklearn.preprocessing import StandardScaler\n",
    "\n",
    "from sklearn.decomposition import PCA\n",
    "from umap import UMAP\n",
    "from sklearn.manifold import TSNE\n",
    "\n",
    "import shap\n",
    "from sklearn.ensemble import RandomForestRegressor"
   ]
  },
  {
   "cell_type": "code",
   "execution_count": null,
   "id": "a02e5bec",
   "metadata": {},
   "outputs": [],
   "source": [
    "signal = pd.read_csv('data/Gangnam/Tsc/signal.csv')\n",
    "df = pd.read_csv('data/Gangnam/Simulation/signal_all.csv', index_col='signal')\n",
    "scaler=StandardScaler()\n",
    "train_df_scale = scaler.fit_transform(df)"
   ]
  },
  {
   "cell_type": "code",
   "execution_count": null,
   "id": "fa7ec7de",
   "metadata": {},
   "outputs": [],
   "source": [
    "umap_np = UMAP(n_neighbors=71, n_components=1, min_dist=0.0, metric=\"cosine\", random_state=42).fit_transform(train_df_scale)\n",
    "pca_np = PCA(n_components=1).fit_transform(train_df_scale)\n",
    "tsne_np = TSNE(n_components = 1, random_state=42).fit_transform(train_df_scale)"
   ]
  },
  {
   "cell_type": "code",
   "execution_count": null,
   "id": "5db18c90",
   "metadata": {},
   "outputs": [],
   "source": [
    "reduction = umap_np\n",
    "reg = RandomForestRegressor(n_estimators=50, max_depth=5, random_state=0).fit(train_df_scale, reduction)\n",
    "tree_explainer = shap.TreeExplainer(reg)\n",
    "shap_values = tree_explainer.shap_values(train_df_scale)\n",
    "feature_names = df.columns\n",
    "\n",
    "plt.rcParams['axes.unicode_minus'] = False\n",
    "fig = plt.figure(figsize=(8, 8))\n",
    "fig.set_facecolor('white')\n",
    "ax = fig.add_subplot()\n",
    "shap.summary_plot(shap_values, train_df_scale, feature_names=df.columns,\n",
    "                 cmap='bwr',\n",
    "                 show=False,\n",
    "                 )\n",
    "ax.set_xlabel('SHAP Value')\n",
    "ax.set_title('SHAP Dot Plot', fontsize=20)\n",
    "plt.show()\n",
    "\n",
    "fig = plt.figure(figsize=(8, 8))\n",
    "fig.set_facecolor('white')\n",
    "ax = fig.add_subplot()\n",
    "shap.summary_plot(shap_values, train_df_scale, feature_names=df.columns,\n",
    "                 plot_type='bar',\n",
    "                 show=False,\n",
    "                 )\n",
    "ax.set_xlabel('SHAP Value')\n",
    "ax.set_title('SHAP Dot Plot', fontsize=20)\n",
    "plt.show()"
   ]
  }
 ],
 "metadata": {
  "kernelspec": {
   "display_name": "Python 3 (ipykernel)",
   "language": "python",
   "name": "python3"
  },
  "language_info": {
   "codemirror_mode": {
    "name": "ipython",
    "version": 3
   },
   "file_extension": ".py",
   "mimetype": "text/x-python",
   "name": "python",
   "nbconvert_exporter": "python",
   "pygments_lexer": "ipython3",
   "version": "3.10.9"
  }
 },
 "nbformat": 4,
 "nbformat_minor": 5
}
