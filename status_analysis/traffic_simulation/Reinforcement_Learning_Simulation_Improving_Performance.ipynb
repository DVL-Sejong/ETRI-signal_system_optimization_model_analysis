{
 "cells": [
  {
   "cell_type": "code",
   "execution_count": null,
   "id": "7fe5ba81",
   "metadata": {},
   "outputs": [],
   "source": [
    "import os, sys\n",
    "import sumolib\n",
    "import libtraci as traci\n",
    "import time\n",
    "import pandas as pd\n",
    "import xml.etree.ElementTree as ET\n",
    "from xml.etree.ElementTree import Element, SubElement, ElementTree\n",
    "import numpy as np\n",
    "import shutil\n",
    "import traci.constants\n",
    "from multiprocessing import Pool\n",
    "import gym\n",
    "from gym import spaces\n",
    "import random\n",
    "from tensorforce.environments import Environment\n",
    "from tensorforce.agents import Agent\n",
    "from tensorforce.execution import Runner"
   ]
  },
  {
   "cell_type": "code",
   "execution_count": null,
   "id": "6e588614",
   "metadata": {},
   "outputs": [],
   "source": [
    "## Simulation environment\n",
    "class TrafficSimEnv(Environment):\n",
    "    def __init__(self):\n",
    "        super().__init__()\n",
    "        self.dtype = 'high'\n",
    "        self.demand = np.ones(28, dtype='float')\n",
    "\n",
    "    def states(self):\n",
    "        return dict(type='float', shape=(28,))\n",
    "    \n",
    "    def actions(self):\n",
    "        return dict(type='float', shape=(1,), min_value = 0.05, max_value= 0.059)\n",
    "    \n",
    "    def close(self):\n",
    "        super().close()\n",
    "        \n",
    "    def reset(self):\n",
    "        return np.ones(28, dtype='float')\n",
    "    \n",
    "    def execute(self, actions):\n",
    "        next_state = self.demand\n",
    "        terminal = False\n",
    "        \n",
    "        self.make_add_edge_xml()\n",
    "        self.run_simulation()\n",
    "        eval_speed, eval_volume = self.simulation_evaluation()\n",
    "        reward = (100 - abs(eval_speed - 100)) * 0.08 + (100 - abs(eval_volume - 100)) * 0.02\n",
    "        print(\"reward : {:.2f}\".format(reward))\n",
    "        print(\"demand : {}\".format(self.demand))\n",
    "        print(\"Speed_acc : {}\".format(eval_speed) + \" Volume_acc : {}\".format(eval_volume))\n",
    "        \n",
    "        self.demand[random.randint(0,27)] -= round(actions[0],2)\n",
    "        next_state = self.demand\n",
    "        \n",
    "        if reward >= 0.9:\n",
    "            print('check')\n",
    "            terminal = True\n",
    "            \n",
    "        return next_state, terminal, reward\n",
    "\n",
    "    "
   ]
  }
 ],
 "metadata": {
  "kernelspec": {
   "display_name": "Python 3 (ipykernel)",
   "language": "python",
   "name": "python3"
  },
  "language_info": {
   "codemirror_mode": {
    "name": "ipython",
    "version": 3
   },
   "file_extension": ".py",
   "mimetype": "text/x-python",
   "name": "python",
   "nbconvert_exporter": "python",
   "pygments_lexer": "ipython3",
   "version": "3.8.0"
  }
 },
 "nbformat": 4,
 "nbformat_minor": 5
}
