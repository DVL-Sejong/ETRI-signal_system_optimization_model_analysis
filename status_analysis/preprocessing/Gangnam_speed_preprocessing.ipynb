{
 "cells": [
  {
   "cell_type": "code",
   "execution_count": 2,
   "id": "f53a2d50",
   "metadata": {},
   "outputs": [],
   "source": [
    "import pandas as pd\n",
    "import numpy as np\n",
    "from tqdm import tqdm"
   ]
  },
  {
   "cell_type": "code",
   "execution_count": null,
   "id": "373175b2",
   "metadata": {},
   "outputs": [],
   "source": [
    "df = df = pd.read_excel('C:/users/skang/desktop/data/서울시 도로교통 속도/2022/속도/2022년 ' + str(i+1) + '월 서울시 차량통행속도.xlsx', engine='openpyxl')\n",
    "df = df[df['권역구분']=='강남구']\n",
    "c = dict.fromkeys(df['링크아이디'])\n",
    "k = pd.date_range('2022/1/1 0:00:00', periods=24*365, freq='h')\n",
    "spd = pd.DataFrame(columns=list(c), index=k)"
   ]
  },
  {
   "cell_type": "code",
   "execution_count": 37,
   "id": "ccf1e326",
   "metadata": {},
   "outputs": [
    {
     "name": "stderr",
     "output_type": "stream",
     "text": [
      "100%|█████████████████████████████████████████████████████████████████████████████████| 12/12 [32:17<00:00, 161.42s/it]\n"
     ]
    }
   ],
   "source": [
    "for i in tqdm(range(12)):\n",
    "    df = pd.read_excel('C:/users/skang/desktop/data/서울시 도로교통 속도/2022/속도/2022년 ' + str(i+1) + '월 서울시 차량통행속도.xlsx', engine='openpyxl')\n",
    "    \n",
    "    for j in range(len(df)):\n",
    "        if df.iloc[j]['링크아이디'] in idxlist:\n",
    "            for k in range(12,36):\n",
    "                if len(str((k +13) % 24 * 100)) == 3:\n",
    "                    h = '0' + str((k +13) % 24 * 100)\n",
    "                elif len(str((k +13) % 24 * 100)) == 1:\n",
    "                    h = str((k +13) % 24 * 100) + '000'\n",
    "                else:\n",
    "                    h = str((k +13) % 24 * 100)\n",
    "                index = str(df.iloc[j]['일자']) + h\n",
    "                spd.loc[index, df.iloc[j]['링크아이디']] = df.iloc[j,k]\n",
    "spd.to_csv('data/Gangnam/Speed/Gangnam_speed_2022.csv', index=False)"
   ]
  }
 ],
 "metadata": {
  "kernelspec": {
   "display_name": "Python 3 (ipykernel)",
   "language": "python",
   "name": "python3"
  },
  "language_info": {
   "codemirror_mode": {
    "name": "ipython",
    "version": 3
   },
   "file_extension": ".py",
   "mimetype": "text/x-python",
   "name": "python",
   "nbconvert_exporter": "python",
   "pygments_lexer": "ipython3",
   "version": "3.10.9"
  }
 },
 "nbformat": 4,
 "nbformat_minor": 5
}
