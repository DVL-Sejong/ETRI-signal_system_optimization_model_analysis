{
 "cells": [
  {
   "cell_type": "code",
   "execution_count": null,
   "id": "7fe5ba81",
   "metadata": {},
   "outputs": [],
   "source": [
    "import os, sys\n",
    "import sumolib\n",
    "import libtraci as traci\n",
    "import time\n",
    "import pandas as pd\n",
    "import xml.etree.ElementTree as ET\n",
    "from xml.etree.ElementTree import Element, SubElement, ElementTree\n",
    "import numpy as np\n",
    "import shutil\n",
    "import traci.constants\n",
    "from multiprocessing import Pool\n",
    "import gym\n",
    "from gym import spaces\n",
    "import random\n",
    "from tensorforce.environments import Environment\n",
    "from tensorforce.agents import Agent\n",
    "from tensorforce.execution import Runner"
   ]
  },
  {
   "cell_type": "code",
   "execution_count": null,
   "id": "6e588614",
   "metadata": {},
   "outputs": [],
   "source": [
    "## Simulation environment\n",
    "class TrafficSimEnv(Environment):\n",
    "    def __init__(self):\n",
    "        super().__init__()\n",
    "        \n",
    "    def states(self):\n",
    "        return\n",
    "    \n",
    "    def actions(self):\n",
    "        return\n",
    "    \n",
    "    def close(self):\n",
    "        super().close()\n",
    "        \n",
    "    def reset(self):\n",
    "        return\n",
    "    \n",
    "    def execute(self, actions):\n",
    "        return next_state, terminal, reward"
   ]
  }
 ],
 "metadata": {
  "kernelspec": {
   "display_name": "Python 3 (ipykernel)",
   "language": "python",
   "name": "python3"
  },
  "language_info": {
   "codemirror_mode": {
    "name": "ipython",
    "version": 3
   },
   "file_extension": ".py",
   "mimetype": "text/x-python",
   "name": "python",
   "nbconvert_exporter": "python",
   "pygments_lexer": "ipython3",
   "version": "3.8.0"
  }
 },
 "nbformat": 4,
 "nbformat_minor": 5
}
