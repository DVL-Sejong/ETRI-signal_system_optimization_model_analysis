{
 "cells": [
  {
   "cell_type": "code",
   "execution_count": null,
   "id": "50a427d7",
   "metadata": {},
   "outputs": [],
   "source": [
    "from sklearn.manifold import TSNE\n",
    "import numpy as np\n",
    "from matplotlib import pyplot as plt\n",
    "import pandas as pd\n",
    "import seaborn as sns\n",
    "from umap import UMAP\n",
    "from sklearn.preprocessing import StandardScaler\n",
    "from sklearn.decomposition import PCA"
   ]
  },
  {
   "cell_type": "code",
   "execution_count": null,
   "id": "d03ef400",
   "metadata": {},
   "outputs": [],
   "source": [
    "signal = pd.read_csv('data/Gangnam/Tsc/signal.csv')\n",
    "df = pd.read_csv('data/Gangnam/Simulation/signal_all.csv', index_col='signal')\n",
    "scaler=StandardScaler()\n",
    "train_df_scale = scaler.fit_transform(df)"
   ]
  },
  {
   "cell_type": "code",
   "execution_count": null,
   "id": "9774bc7b",
   "metadata": {},
   "outputs": [],
   "source": [
    "tsne_np = TSNE(n_components = 2, random_state=42).fit_transform(train_df_scale)\n",
    "umap_np = UMAP(n_neighbors=17, n_components=2, min_dist=0.0, metric=\"cosine\", random_state=42).fit_transform(train_df_scale)\n",
    "pca_np = PCA(n_components=2).fit_transform(train_df_scale)\n",
    "svd_np = TruncatedSVD(n_components=2).fit_transform(train_df_scale)"
   ]
  },
  {
   "cell_type": "code",
   "execution_count": null,
   "id": "91c235a1",
   "metadata": {},
   "outputs": [],
   "source": [
    "sns.scatterplot(x=tsne_np[:,0], y=tsne_np[:,1])\n",
    "plt.show()\n",
    "sns.scatterplot(x=umap_np[:,0], y=umap_np[:,1])\n",
    "plt.show()\n",
    "sns.scatterplot(x=pca_np[:,0], y=pca_np[:,1])\n",
    "plt.show()\n",
    "sns.scatterplot(x=svd_np[:,0], y=svd_np[:,1])\n",
    "plt.show()"
   ]
  }
 ],
 "metadata": {
  "kernelspec": {
   "display_name": "Python 3 (ipykernel)",
   "language": "python",
   "name": "python3"
  },
  "language_info": {
   "codemirror_mode": {
    "name": "ipython",
    "version": 3
   },
   "file_extension": ".py",
   "mimetype": "text/x-python",
   "name": "python",
   "nbconvert_exporter": "python",
   "pygments_lexer": "ipython3",
   "version": "3.10.9"
  }
 },
 "nbformat": 4,
 "nbformat_minor": 5
}
