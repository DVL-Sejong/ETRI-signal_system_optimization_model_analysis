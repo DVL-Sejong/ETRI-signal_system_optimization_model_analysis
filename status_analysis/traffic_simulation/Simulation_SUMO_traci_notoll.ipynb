{
 "cells": [
  {
   "cell_type": "code",
   "execution_count": 1,
   "id": "84a07ec6",
   "metadata": {},
   "outputs": [],
   "source": [
    "import os, sys\n",
    "import traci"
   ]
  },
  {
   "cell_type": "code",
   "execution_count": 2,
   "id": "6e9a2dc2",
   "metadata": {},
   "outputs": [],
   "source": [
    "sys.path.append(os.path.join(\"Sumo_dir/tools/\"))"
   ]
  },
  {
   "cell_type": "code",
   "execution_count": 8,
   "id": "eab0c2f4",
   "metadata": {},
   "outputs": [
    {
     "data": {
      "text/plain": [
       "(20, 'SUMO 1.15.0')"
      ]
     },
     "execution_count": 8,
     "metadata": {},
     "output_type": "execute_result"
    }
   ],
   "source": [
    "sumoBinary = \"Sumo_dir/bin/sumo.exe\"\n",
    "sumoCmd = [sumoBinary, \"-c\", \"simulation_file_dir/osm.sumocfg\"]\n",
    "traci.start(sumoCmd, label=\"sim\")"
   ]
  },
  {
   "cell_type": "code",
   "execution_count": 9,
   "id": "bad66756",
   "metadata": {
    "scrolled": true
   },
   "outputs": [],
   "source": [
    "step = 0\n",
    "while step < 86400:\n",
    "    traci.simulationStep()\n",
    "    step += 1\n",
    "    \n",
    "traci.close()"
   ]
  }
 ],
 "metadata": {
  "kernelspec": {
   "display_name": "Python 3 (ipykernel)",
   "language": "python",
   "name": "python3"
  },
  "language_info": {
   "codemirror_mode": {
    "name": "ipython",
    "version": 3
   },
   "file_extension": ".py",
   "mimetype": "text/x-python",
   "name": "python",
   "nbconvert_exporter": "python",
   "pygments_lexer": "ipython3",
   "version": "3.10.9"
  }
 },
 "nbformat": 4,
 "nbformat_minor": 5
}
