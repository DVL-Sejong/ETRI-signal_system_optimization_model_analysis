{
 "cells": [
  {
   "cell_type": "code",
   "execution_count": 216,
   "id": "8ec4d448",
   "metadata": {},
   "outputs": [],
   "source": [
    "import pandas as pd\n",
    "from matplotlib import pyplot as plt\n",
    "from datetime import datetime\n",
    "import numpy as np\n",
    "from tqdm import tqdm"
   ]
  },
  {
   "cell_type": "code",
   "execution_count": 242,
   "id": "cabf1f5a",
   "metadata": {},
   "outputs": [],
   "source": [
    "# Read Speed Data\n",
    "dfs = []\n",
    "\n",
    "for year in range(2014, 2024):\n",
    "    filepath = 'data/namsan/spd/Namsan_speed' + str(year) + '.csv'\n",
    "    df = pd.read_csv(filepath, index_col='Unnamed: 0')\n",
    "    df.index = pd.to_datetime(df.index)\n",
    "    df = df[df.index.weekday < 5]\n",
    "    dfs.append(df)"
   ]
  },
  {
   "cell_type": "code",
   "execution_count": 467,
   "id": "f1ac9cc0",
   "metadata": {
    "scrolled": true
   },
   "outputs": [],
   "source": [
    "# Calculate the average speed for each month\n",
    "def month_period_avg(dfs):\n",
    "    avg = []\n",
    "    \n",
    "    for df in dfs:\n",
    "        temp = pd.DataFrame(np.zeros((24, len(df.columns))), columns=df.columns ,index=range(24))\n",
    "        temp2 = pd.DataFrame(np.zeros((24, len(df.columns))), columns=df.columns ,index=range(24))\n",
    "        temp3 = pd.DataFrame(np.zeros((24, len(df.columns))), columns=df.columns ,index=range(24))\n",
    "        temp4 = pd.DataFrame(np.zeros((24, len(df.columns))), columns=df.columns ,index=range(24))\n",
    "        \n",
    "        for col in tqdm(df.columns):\n",
    "            cnt = np.zeros(24*4)\n",
    "            for i in range(len(df.index)):\n",
    "                if np.isnan(df[col][i]):\n",
    "                    continue\n",
    "                elif df.index[i].month == 2:\n",
    "                    cnt[df.index[i].hour] += 1\n",
    "                    temp[col][df.index[i].hour] += df[col][i]\n",
    "                elif df.index[i].month == 3:\n",
    "                    if df.index[i].day <= 16:\n",
    "                        cnt[df.index[i].hour] += 1\n",
    "                        temp[col][df.index[i].hour] += df[col][i]\n",
    "                    else:\n",
    "                        cnt[df.index[i].hour+24] += 1\n",
    "                        temp2[col][df.index[i].hour] += df[col][i]\n",
    "                elif df.index[i].month == 4:\n",
    "                    if df.index[i].day <= 16:\n",
    "                        cnt[df.index[i].hour+24] += 1\n",
    "                        temp2[col][df.index[i].hour] += df[col][i]\n",
    "                    else:\n",
    "                        cnt[df.index[i].hour+48] += 1\n",
    "                        temp3[col][df.index[i].hour] += df[col][i]\n",
    "                elif df.index[i].month == 5:\n",
    "                    if df.index[i].day <= 16:\n",
    "                        cnt[df.index[i].hour+48] += 1\n",
    "                        temp3[col][df.index[i].hour] += df[col][i]\n",
    "                    else:\n",
    "                        cnt[df.index[i].hour+72] += 1\n",
    "                        temp4[col][df.index[i].hour] += df[col][i]\n",
    "            \n",
    "            for j in range(24):\n",
    "                temp[col][j] /= cnt[j]\n",
    "                temp2[col][j] /= cnt[j+24]\n",
    "                temp3[col][j] /= cnt[j+48]\n",
    "                temp4[col][j] /= cnt[j+72]\n",
    "                    \n",
    "        avg.append(temp)\n",
    "        avg.append(temp2)\n",
    "        avg.append(temp3)\n",
    "        avg.append(temp4)\n",
    "    return avg"
   ]
  },
  {
   "cell_type": "code",
   "execution_count": null,
   "id": "8d6d9494",
   "metadata": {},
   "outputs": [],
   "source": [
    "m_avg = month_period_avg(dfs)\n",
    "year = ['2014', '2015', '2016', '2017', '2018', '2019', '2020', '2021', '2022', '2023']\n",
    "avg = []\n",
    "for i in range(10):\n",
    "    avg.append(m_avg[0+(i*4)])"
   ]
  }
 ],
 "metadata": {
  "kernelspec": {
   "display_name": "Python 3 (ipykernel)",
   "language": "python",
   "name": "python3"
  },
  "language_info": {
   "codemirror_mode": {
    "name": "ipython",
    "version": 3
   },
   "file_extension": ".py",
   "mimetype": "text/x-python",
   "name": "python",
   "nbconvert_exporter": "python",
   "pygments_lexer": "ipython3",
   "version": "3.10.9"
  }
 },
 "nbformat": 4,
 "nbformat_minor": 5
}
