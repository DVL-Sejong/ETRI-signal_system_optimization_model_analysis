{
 "cells": [
  {
   "cell_type": "code",
   "execution_count": 216,
   "id": "8ec4d448",
   "metadata": {},
   "outputs": [],
   "source": [
    "import pandas as pd\n",
    "from matplotlib import pyplot as plt\n",
    "from datetime import datetime\n",
    "import numpy as np\n",
    "from tqdm import tqdm"
   ]
  },
  {
   "cell_type": "code",
   "execution_count": 242,
   "id": "cabf1f5a",
   "metadata": {},
   "outputs": [],
   "source": [
    "# Read Speed Data\n",
    "dfs = []\n",
    "\n",
    "for year in range(2014, 2024):\n",
    "    filepath = 'data/namsan/spd/Namsan_speed' + str(year) + '.csv'\n",
    "    df = pd.read_csv(filepath, index_col='Unnamed: 0')\n",
    "    df.index = pd.to_datetime(df.index)\n",
    "    df = df[df.index.weekday < 5]\n",
    "    dfs.append(df)"
   ]
  },
  {
   "cell_type": "code",
   "execution_count": 469,
   "id": "be35f25a",
   "metadata": {},
   "outputs": [],
   "source": [
    "# Calculate the average speed for each day\n",
    "def day_period_avg(dfs):\n",
    "    avg = []\n",
    "    \n",
    "    for df in dfs:\n",
    "        temp_dfs = [[pd.DataFrame(np.zeros((24, len(df.columns))), columns=df.columns ,index=range(24)) for _ in range(5)] for _ in range(4)]\n",
    "\n",
    "        for col in tqdm(df.columns):\n",
    "            cnt = [[np.zeros(24) for _ in range(5)] for _ in range(4)]\n",
    "            for i in range(len(df.index)):\n",
    "                if np.isnan(df[col][i]):\n",
    "                    continue\n",
    "                elif df.index[i].month == 2:\n",
    "                    weekday = df.index[i].weekday()\n",
    "                    cnt[0][weekday][df.index[i].hour] += 1\n",
    "                    temp_dfs[0][weekday][col][df.index[i].hour] += df[col][i]\n",
    "                elif df.index[i].month == 3:\n",
    "                    if df.index[i].day <= 16:\n",
    "                        weekday = df.index[i].weekday()\n",
    "                        cnt[0][weekday][df.index[i].hour] += 1\n",
    "                        temp_dfs[0][weekday][col][df.index[i].hour] += df[col][i]\n",
    "                    else:\n",
    "                        weekday = df.index[i].weekday()\n",
    "                        cnt[1][weekday][df.index[i].hour] += 1\n",
    "                        temp_dfs[1][weekday][col][df.index[i].hour] += df[col][i]\n",
    "                elif df.index[i].month == 4:\n",
    "                    if df.index[i].day <= 16:\n",
    "                        weekday = df.index[i].weekday()\n",
    "                        cnt[1][weekday][df.index[i].hour] += 1\n",
    "                        temp_dfs[1][weekday][col][df.index[i].hour] += df[col][i]\n",
    "                    else:\n",
    "                        weekday = df.index[i].weekday()\n",
    "                        cnt[2][weekday][df.index[i].hour] += 1\n",
    "                        temp_dfs[2][weekday][col][df.index[i].hour] += df[col][i]\n",
    "                elif df.index[i].month == 5:\n",
    "                    if df.index[i].day <= 16:\n",
    "                        weekday = df.index[i].weekday()\n",
    "                        cnt[2][weekday][df.index[i].hour] += 1\n",
    "                        temp_dfs[2][weekday][col][df.index[i].hour] += df[col][i]\n",
    "                    else:\n",
    "                        weekday = df.index[i].weekday()\n",
    "                        cnt[3][weekday][df.index[i].hour] += 1\n",
    "                        temp_dfs[3][weekday][col][df.index[i].hour] += df[col][i]\n",
    "            for temp_df, ct in zip(temp_dfs, cnt):\n",
    "                for k in range(5):\n",
    "                    for j in range(24):\n",
    "                        if ct[k][j] == 0:\n",
    "                            temp_df[k][col][j] = None\n",
    "                        else:\n",
    "                            temp_df[k][col][j] /= ct[k][j]\n",
    "        avg.append(temp_dfs)\n",
    "    return avg"
   ]
  },
  {
   "cell_type": "code",
   "execution_count": null,
   "id": "6d63f736",
   "metadata": {},
   "outputs": [],
   "source": [
    "day = day_period_avg(dfs)"
   ]
  },
  {
   "cell_type": "code",
   "execution_count": 485,
   "id": "cb0db3d1",
   "metadata": {},
   "outputs": [],
   "source": [
    "year = ['2014', '2015', '2016', '2017', '2018', '2019', '2020', '2021', '2022', '2023']\n",
    "avg = []\n",
    "for i in range(10):\n",
    "    avg.append(day[i][4][0])"
   ]
  }
 ],
 "metadata": {
  "kernelspec": {
   "display_name": "Python 3 (ipykernel)",
   "language": "python",
   "name": "python3"
  },
  "language_info": {
   "codemirror_mode": {
    "name": "ipython",
    "version": 3
   },
   "file_extension": ".py",
   "mimetype": "text/x-python",
   "name": "python",
   "nbconvert_exporter": "python",
   "pygments_lexer": "ipython3",
   "version": "3.10.9"
  }
 },
 "nbformat": 4,
 "nbformat_minor": 5
}
