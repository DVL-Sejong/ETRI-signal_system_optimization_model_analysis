{
 "cells": [
  {
   "cell_type": "code",
   "execution_count": null,
   "id": "8fdb7b90",
   "metadata": {},
   "outputs": [],
   "source": [
    "import pandas as pd\n",
    "import numpy as np\n",
    "from tqdm import tqdm"
   ]
  },
  {
   "cell_type": "code",
   "execution_count": null,
   "id": "14f2e64e",
   "metadata": {},
   "outputs": [],
   "source": [
    "df = pd.read_csv('data/Gangnam/Gangnam_speed_2022.csv', index='Innamed: 0')\n",
    "\n",
    "ffs = np.zeros(len(df.columns))\n",
    "for i in tqdm(range(len(df.columns))):\n",
    "    temp = []\n",
    "    for j in range(len(df.index)):\n",
    "        temp.append(df.iloc[j,i])\n",
    "    temp.sort(reverse=True)\n",
    "    ffs[i] = temp[int(len(df.index)*0.2)]"
   ]
  },
  {
   "cell_type": "code",
   "execution_count": null,
   "id": "59d5ea1b",
   "metadata": {},
   "outputs": [],
   "source": [
    "df = pd.DataFrame(ffs, index=df.columns)\n",
    "df.columns=['FFS']\n",
    "df.to_csv('data/Gangnam/Gangnam_FFS.csv')"
   ]
  }
 ],
 "metadata": {
  "kernelspec": {
   "display_name": "Python 3 (ipykernel)",
   "language": "python",
   "name": "python3"
  },
  "language_info": {
   "codemirror_mode": {
    "name": "ipython",
    "version": 3
   },
   "file_extension": ".py",
   "mimetype": "text/x-python",
   "name": "python",
   "nbconvert_exporter": "python",
   "pygments_lexer": "ipython3",
   "version": "3.10.9"
  }
 },
 "nbformat": 4,
 "nbformat_minor": 5
}
