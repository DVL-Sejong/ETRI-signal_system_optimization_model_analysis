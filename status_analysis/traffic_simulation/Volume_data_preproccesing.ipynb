{
 "cells": [
  {
   "cell_type": "code",
   "execution_count": 1,
   "id": "26045636",
   "metadata": {},
   "outputs": [],
   "source": [
    "import pandas as pd"
   ]
  },
  {
   "cell_type": "code",
   "execution_count": 27,
   "id": "02f28124",
   "metadata": {},
   "outputs": [],
   "source": [
    "df = pd.read_excel('data/seoul/TrafficVolume(LINK).xlsx')"
   ]
  },
  {
   "cell_type": "code",
   "execution_count": null,
   "id": "f630a055",
   "metadata": {},
   "outputs": [],
   "source": [
    "df = df.drop(columns=['도로등급', '도로명', '권역', '연장(km)', '차선수', '전일'], axis=1)\n",
    "df.columns=['SUMO_ID', 'ITS LINK ID', '0', '1', '2', '3', '4', '5', '6', '7', '8', '9', '10', '11', '12', '13', '14', '15', '16', '17', '18', '19', '20', '21', '22', '23']"
   ]
  },
  {
   "cell_type": "code",
   "execution_count": null,
   "id": "df699109",
   "metadata": {},
   "outputs": [],
   "source": [
    "ffs = df.read_csv('data/seoul/Gangnam_FFS.csv')"
   ]
  },
  {
   "cell_type": "code",
   "execution_count": null,
   "id": "e43ab0d1",
   "metadata": {},
   "outputs": [],
   "source": [
    "rlist = []\n",
    "for i in range(len(df)):\n",
    "    temp = df['ITS LINK ID'][i].split(',')\n",
    "    if len(temp) != 1:\n",
    "        for j in range(len(temp)):\n",
    "            if j not in ffs.index:\n",
    "                rlist.append(i)\n",
    "    else:\n",
    "        if temp[0] not in ffs.index:\n",
    "            rlist.append(i)"
   ]
  },
  {
   "cell_type": "code",
   "execution_count": null,
   "id": "665b8915",
   "metadata": {},
   "outputs": [],
   "source": [
    "df = df.drop(rlist, axis=0)"
   ]
  },
  {
   "cell_type": "code",
   "execution_count": null,
   "id": "3e7563bd",
   "metadata": {},
   "outputs": [],
   "source": [
    "c=pd.read_csv('data/seoul/road_sumo_id.csv', index_col='Unnamed: 0')"
   ]
  },
  {
   "cell_type": "code",
   "execution_count": null,
   "id": "68709853",
   "metadata": {},
   "outputs": [],
   "source": [
    "for i in range(len(df)):\n",
    "    temp = df['ITS LINK ID'][i].split(',')\n",
    "    if len(temp) != 2:\n",
    "        a = c.loc[int(temp[0])]['sumo_id'].split(', ')\n",
    "        df['SUMO_ID'][i] = a[int((len(a)-1)/2)]"
   ]
  },
  {
   "cell_type": "code",
   "execution_count": 83,
   "id": "f85901c8",
   "metadata": {},
   "outputs": [],
   "source": [
    "df.to_csv('data/seoul/volume.csv')"
   ]
  }
 ],
 "metadata": {
  "kernelspec": {
   "display_name": "Python 3 (ipykernel)",
   "language": "python",
   "name": "python3"
  },
  "language_info": {
   "codemirror_mode": {
    "name": "ipython",
    "version": 3
   },
   "file_extension": ".py",
   "mimetype": "text/x-python",
   "name": "python",
   "nbconvert_exporter": "python",
   "pygments_lexer": "ipython3",
   "version": "3.10.9"
  }
 },
 "nbformat": 4,
 "nbformat_minor": 5
}
