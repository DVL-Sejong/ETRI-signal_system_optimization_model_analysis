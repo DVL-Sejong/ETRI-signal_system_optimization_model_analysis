{
 "cells": [
  {
   "cell_type": "code",
   "execution_count": 1,
   "id": "f53a2d50",
   "metadata": {},
   "outputs": [],
   "source": [
    "import pandas as pd\n",
    "import numpy as np\n",
    "from tqdm import tqdm"
   ]
  },
  {
   "cell_type": "code",
   "execution_count": null,
   "id": "15526eda",
   "metadata": {},
   "outputs": [],
   "source": [
    "nodata_edge = [1220022700, 1220003900, 1220036000, 1220005600, 1220005700, 1220005400, 1220028400, 1220016300, 1220027900, 1220030700, 1210030100, 1210006300, 1220011800]\n",
    "df = pd.read_csv('data/seoul/Gangnam.csv', index_col='Unnamed: 0')\n",
    "df = df.drop(index=nodata_edge, axis=0)"
   ]
  },
  {
   "cell_type": "code",
   "execution_count": null,
   "id": "0354162c",
   "metadata": {},
   "outputs": [],
   "source": [
    "idx = pd.date_range('2022/1/1 0:00:00', periods=24*365, freq='h')\n",
    "spd = pd.DataFrame(columns=df.index, index=idx)\n",
    "spd"
   ]
  },
  {
   "cell_type": "code",
   "execution_count": 37,
   "id": "ccf1e326",
   "metadata": {},
   "outputs": [
    {
     "name": "stderr",
     "output_type": "stream",
     "text": [
      "100%|█████████████████████████████████████████████████████████████████████████████████| 12/12 [32:17<00:00, 161.42s/it]\n"
     ]
    }
   ],
   "source": [
    "for i in tqdm(range(12)):\n",
    "    df = pd.read_excel('C:/users/skang/desktop/data/서울시 도로교통 속도/2022/속도/2022년 ' + str(i+1) + '월 서울시 차량통행속도.xlsx', engine='openpyxl')\n",
    "    \n",
    "    for j in range(len(df)):\n",
    "        if df.iloc[j]['링크아이디'] in idxlist:\n",
    "            for k in range(12,36):\n",
    "                if len(str((k +13) % 24 * 100)) == 3:\n",
    "                    h = '0' + str((k +13) % 24 * 100)\n",
    "                elif len(str((k +13) % 24 * 100)) == 1:\n",
    "                    h = str((k +13) % 24 * 100) + '000'\n",
    "                else:\n",
    "                    h = str((k +13) % 24 * 100)\n",
    "                index = str(df.iloc[j]['일자']) + h\n",
    "                spd.loc[index, df.iloc[j]['링크아이디']] = df.iloc[j,k]"
   ]
  },
  {
   "cell_type": "code",
   "execution_count": null,
   "id": "6f897a61",
   "metadata": {},
   "outputs": [],
   "source": [
    "for i in tqdm(range(12)):\n",
    "    df = pd.read_excel('C:/users/skang/desktop/data/서울시 도로교통 속도/2022/2022년 ' + str(i+1) + '월 서울시 차량통행속도.xlsx', engine='openpyxl')\n",
    "    df = df[df['도로명']=='강남대로']\n",
    "    \n",
    "    for j in range(len(df)):\n",
    "        if df.iloc[j][3] in list(c):\n",
    "            for k in range(12,36):\n",
    "                if len(str((k +13) % 24 * 100)) == 3:\n",
    "                    h = '0' + str((k +13) % 24 * 100)\n",
    "                elif len(str((k +13) % 24 * 100)) == 1:\n",
    "                    h = str((k +13) % 24 * 100) + '000'\n",
    "                else:\n",
    "                    h = str((k +13) % 24 * 100)\n",
    "                index = str(df.iloc[j]['일자']) + h\n",
    "                spd.loc[index, df.iloc[j]['링크아이디']] = df.iloc[j,k]"
   ]
  },
  {
   "cell_type": "code",
   "execution_count": 155,
   "id": "93269794",
   "metadata": {},
   "outputs": [
    {
     "name": "stderr",
     "output_type": "stream",
     "text": [
      "100%|██████████████████████████████████████████████████████████████████████████████████| 12/12 [15:18<00:00, 76.57s/it]\n"
     ]
    }
   ],
   "source": [
    "for i in range(len(spd.columns)):\n",
    "    for j in range(len(spd.index)):\n",
    "        if np.isnan(spd.iloc[j,i]):\n",
    "            cnt = 0\n",
    "            prev = j\n",
    "            next = j\n",
    "            while np.isnan(spd.iloc[prev,i]):\n",
    "                prev -= 1\n",
    "                cnt += 1\n",
    "            while np.isnan(spd.iloc[next,i]):\n",
    "                next += 1\n",
    "                cnt += 1\n",
    "            spd.iloc[j,i] = spd.iloc[prev,i] - ((spd.iloc[prev,i] - spd.iloc[next,i]) / cnt)"
   ]
  },
  {
   "cell_type": "code",
   "execution_count": 157,
   "id": "de246c23",
   "metadata": {},
   "outputs": [],
   "source": [
    "spd.to_csv('data/seoul/speed2022_1h.csv')"
   ]
  },
  {
   "cell_type": "code",
   "execution_count": 17,
   "id": "9fa78549",
   "metadata": {},
   "outputs": [],
   "source": [
    "spd.to_hdf('data/seoul/ML/origin.h5', 'df', format='table')"
   ]
  }
 ],
 "metadata": {
  "kernelspec": {
   "display_name": "Python 3 (ipykernel)",
   "language": "python",
   "name": "python3"
  },
  "language_info": {
   "codemirror_mode": {
    "name": "ipython",
    "version": 3
   },
   "file_extension": ".py",
   "mimetype": "text/x-python",
   "name": "python",
   "nbconvert_exporter": "python",
   "pygments_lexer": "ipython3",
   "version": "3.10.9"
  }
 },
 "nbformat": 4,
 "nbformat_minor": 5
}
