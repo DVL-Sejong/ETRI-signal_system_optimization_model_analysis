{
 "cells": [
  {
   "cell_type": "code",
   "execution_count": 216,
   "id": "8ec4d448",
   "metadata": {},
   "outputs": [],
   "source": [
    "import pandas as pd\n",
    "from matplotlib import pyplot as plt\n",
    "from datetime import datetime\n",
    "import numpy as np\n",
    "from tqdm import tqdm"
   ]
  },
  {
   "cell_type": "code",
   "execution_count": 242,
   "id": "cabf1f5a",
   "metadata": {},
   "outputs": [],
   "source": [
    "# Read Speed Data\n",
    "dfs = []\n",
    "\n",
    "for year in range(2014, 2024):\n",
    "    filepath = 'data/namsan/spd/Namsan_speed' + str(year) + '.csv'\n",
    "    df = pd.read_csv(filepath, index_col='Unnamed: 0')\n",
    "    df.index = pd.to_datetime(df.index)\n",
    "    df = df[df.index.weekday < 5]\n",
    "    dfs.append(df)"
   ]
  },
  {
   "cell_type": "code",
   "execution_count": 240,
   "id": "70cf2df0",
   "metadata": {},
   "outputs": [],
   "source": [
    "## Calculate the average speed for each time zone\n",
    "def all_period_avg(dfs):\n",
    "    avg = []\n",
    "\n",
    "    for df in dfs:\n",
    "        temp = pd.DataFrame(np.zeros((24, len(df.columns))), columns=df.columns ,index=range(24))\n",
    "        for col in tqdm(df.columns):\n",
    "            cnt = np.zeros(24)\n",
    "            for i in range(len(df.index)):\n",
    "                if np.isnan(df[col][i]):\n",
    "                    continue\n",
    "                else:\n",
    "                    cnt[df.index[i].hour] += 1\n",
    "                    temp[col][df.index[i].hour] += df[col][i]\n",
    "            for i in range(24):\n",
    "                temp[col][i] /= cnt[i]\n",
    "        avg.append(temp)\n",
    "        \n",
    "    return avg"
   ]
  },
  {
   "cell_type": "code",
   "execution_count": null,
   "id": "595f59b5",
   "metadata": {},
   "outputs": [],
   "source": [
    "avg_spd = all_period_avg(dfs)"
   ]
  }
 ],
 "metadata": {
  "kernelspec": {
   "display_name": "Python 3 (ipykernel)",
   "language": "python",
   "name": "python3"
  },
  "language_info": {
   "codemirror_mode": {
    "name": "ipython",
    "version": 3
   },
   "file_extension": ".py",
   "mimetype": "text/x-python",
   "name": "python",
   "nbconvert_exporter": "python",
   "pygments_lexer": "ipython3",
   "version": "3.10.9"
  }
 },
 "nbformat": 4,
 "nbformat_minor": 5
}
