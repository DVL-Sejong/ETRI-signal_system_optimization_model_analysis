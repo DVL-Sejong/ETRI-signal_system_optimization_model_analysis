{
 "cells": [
  {
   "cell_type": "code",
   "execution_count": null,
   "id": "4a613b06",
   "metadata": {},
   "outputs": [],
   "source": [
    "import pandas as pd\n",
    "import numpy as np\n",
    "from sklearn.preprocessing import StandardScaler\n",
    "\n",
    "from sklearn.decomposition import PCA\n",
    "from sklearn.manifold import TSNE\n",
    "from umap.umap_ import UMAP\n",
    "\n",
    "from matplotlib import pyplot as plt\n",
    "import seaborn as sns\n",
    "\n",
    "from sklearn.cluster import KMeans\n",
    "from sklearn.cluster import DBSCAN"
   ]
  },
  {
   "cell_type": "code",
   "execution_count": null,
   "id": "1d72fd3f",
   "metadata": {},
   "outputs": [],
   "source": [
    "df = pd.read_csv('hd_data.csv', index_col='TLINKIDP1')\n",
    "df = df.drop(columns=['geometry'])"
   ]
  },
  {
   "cell_type": "code",
   "execution_count": null,
   "id": "536ee8d8",
   "metadata": {},
   "outputs": [],
   "source": [
    "scaler=StandardScaler()\n",
    "data_df_scale = scaler.fit_transform(df)\n",
    "\n",
    "umap_np = UMAP(n_neighbors=31, n_components=2, min_dist=0.0, n_jobs=20, metric=\"cosine\").fit_transform(data_df_scale)\n",
    "tsne_np = TSNE(n_components = 2, random_state=42).fit_transform(data_df_scale)\n",
    "pca_np = PCA(n_components=2, random_state=42).fit_transform(data_df_scale)"
   ]
  },
  {
   "cell_type": "code",
   "execution_count": null,
   "id": "fe0501a9",
   "metadata": {},
   "outputs": [],
   "source": [
    "reduction = umap_np\n",
    "n_cluster = 7\n",
    "clusters = KMeans(n_clusters=a)\n",
    "clusters.fit(reduction)\n",
    "fig = plt.figure()\n",
    "ax = fig.add_subplot(1, 1, 1)\n",
    "for cluster in range(n_cluster):\n",
    "    cluster_sub_points = reduction[clusters.labels_ == cluster] \n",
    "    ax.scatter(cluster_sub_points[:, 0], cluster_sub_points[:, 1], label='cluster_{}'.format(cluster)) \n",
    "\n",
    "ax.set_xlabel('X')\n",
    "ax.set_ylabel('Y')\n",
    "ax.legend()\n",
    "ax.grid()     \n",
    "plt.show()"
   ]
  },
  {
   "cell_type": "code",
   "execution_count": null,
   "id": "7b807b1f",
   "metadata": {},
   "outputs": [],
   "source": [
    "reduction = tsne_np\n",
    "n_cluster = 7\n",
    "clusters = KMeans(n_clusters=a)\n",
    "clusters.fit(reduction)\n",
    "fig = plt.figure()\n",
    "ax = fig.add_subplot(1, 1, 1)\n",
    "for cluster in range(n_cluster):\n",
    "    cluster_sub_points = reduction[clusters.labels_ == cluster] \n",
    "    ax.scatter(cluster_sub_points[:, 0], cluster_sub_points[:, 1], label='cluster_{}'.format(cluster)) \n",
    "\n",
    "ax.set_xlabel('X')\n",
    "ax.set_ylabel('Y')\n",
    "ax.legend()\n",
    "ax.grid()     \n",
    "plt.show()"
   ]
  },
  {
   "cell_type": "code",
   "execution_count": null,
   "id": "7df8f47c",
   "metadata": {},
   "outputs": [],
   "source": [
    "reduction = umap_np\n",
    "fig = plt.figure()\n",
    "ax= fig.add_subplot(1, 1, 1)\n",
    "epsilon, minPts = 0.6, 2\n",
    "clusters = DBSCAN(eps=epsilon, min_samples=minPts)\n",
    "clusters.fit(reduction)\n",
    "n_cluster = max(clusters.labels_)+1 \n",
    "\n",
    "for cluster in range(n_cluster):\n",
    "    cluster_sub_points = reduction[clusters.labels_ == cluster]\n",
    "    ax.scatter(cluster_sub_points[:, 0], cluster_sub_points[:, 1], label='cluster_{}'.format(cluster))\n",
    "ax.set_title('DBSCAN on signal data')\n",
    "ax.set_xlabel('X')\n",
    "ax.set_ylabel('Y')\n",
    "ax.legend(bbox_to_anchor=(1.05, 1), loc='upper left')\n",
    "ax.grid()\n",
    "plt.show()"
   ]
  },
  {
   "cell_type": "code",
   "execution_count": null,
   "id": "644a285d",
   "metadata": {},
   "outputs": [],
   "source": [
    "reduction = tsne_np\n",
    "fig = plt.figure()\n",
    "ax= fig.add_subplot(1, 1, 1)\n",
    "epsilon, minPts = 5, 2\n",
    "clusters = DBSCAN(eps=epsilon, min_samples=minPts)\n",
    "clusters.fit(reduction)\n",
    "n_cluster = max(clusters.labels_)+1 \n",
    "\n",
    "for cluster in range(n_cluster):\n",
    "    cluster_sub_points = reduction[clusters.labels_ == cluster]\n",
    "    ax.scatter(cluster_sub_points[:, 0], cluster_sub_points[:, 1], label='cluster_{}'.format(cluster))\n",
    "ax.set_title('DBSCAN on signal data')\n",
    "ax.set_xlabel('X')\n",
    "ax.set_ylabel('Y')\n",
    "ax.legend(bbox_to_anchor=(1.05, 1), loc='upper left')\n",
    "ax.grid()\n",
    "plt.show()"
   ]
  },
  {
   "cell_type": "code",
   "execution_count": null,
   "id": "71e3342c",
   "metadata": {},
   "outputs": [],
   "source": [
    "speed = pd.read_csv('./data/Daejeon/speed_3120.csv')\n",
    "start_date = '2022-01-01 00:00:00'\n",
    "end_date = '2022-06-30 23:55:00'\n",
    "\n",
    "date_index = pd.date_range(start=start_date, end=end_date, freq='5T')\n",
    "speed.index=date_index\n",
    "\n",
    "clustered_dataframes = {}\n",
    "for label in range(n_cluster):\n",
    "    columns_in_cluster = speed.columns[clusters.labels_ == label]\n",
    "    clustered_dataframes[label] = speed[columns_in_cluster]"
   ]
  }
 ],
 "metadata": {
  "kernelspec": {
   "display_name": "Python 3 (ipykernel)",
   "language": "python",
   "name": "python3"
  },
  "language_info": {
   "codemirror_mode": {
    "name": "ipython",
    "version": 3
   },
   "file_extension": ".py",
   "mimetype": "text/x-python",
   "name": "python",
   "nbconvert_exporter": "python",
   "pygments_lexer": "ipython3",
   "version": "3.9.12"
  }
 },
 "nbformat": 4,
 "nbformat_minor": 5
}
